{
 "cells": [
  {
   "cell_type": "code",
   "execution_count": 1,
   "id": "9b0b4174",
   "metadata": {},
   "outputs": [],
   "source": [
    "import numpy as np\n",
    "import sys, os\n",
    "sys.path.append('../../sfit_minimizer/source')\n",
    "import exozippy\n",
    "from exozippy.exozippy_rv import exozippy_rv\n"
   ]
  },
  {
   "cell_type": "markdown",
   "id": "b34d540a",
   "metadata": {},
   "source": [
    "### RV fucntion Test"
   ]
  },
  {
   "cell_type": "code",
   "execution_count": null,
   "id": "ecf43e5e",
   "metadata": {},
   "outputs": [],
   "source": [
    "\n",
    "\n",
    "tp = 2450000.0\n",
    "period = 10.123456\n",
    "bjd = np.linspace(tp,tp+period,10)\n",
    "gamma = 20.0\n",
    "K = 5.0\n",
    "\n",
    "result = exozippy_rv(bjd, tp, period, gamma, K)\n",
    "expected_result = np.array([20.0000000000,16.7860619518,15.0759612351,15.6698729813,18.2898992834,21.7101007163,24.3301270186,24.9240387650,23.2139380484,20.0000000004])\n",
    "\n",
    "abs_diff = np.abs(result - expected_result)\n",
    "if np.all(abs_diff < 1e-6):\n",
    "    print(\"RV function Test passed\")"
   ]
  },
  {
   "cell_type": "markdown",
   "id": "ba913ed0",
   "metadata": {},
   "source": [
    "### Transit function Test"
   ]
  },
  {
   "cell_type": "markdown",
   "id": "864cac2c",
   "metadata": {},
   "source": [
    "IDL code for generating LC\n",
    "```IDL\n",
    ";; print_transit.rpo\n",
    "time = FINDGEN(50) * (0.05 - (-0.05)) / (50 - 1) + (-0.05)    \n",
    "inc = 1.5707963267948966                                        \n",
    "ar = 15\n",
    "tp =0\n",
    "period = 3\n",
    "e = 0 \n",
    "omega = 1.5707963267948966 \n",
    "p = 0.1\n",
    "u1 = 0.3\n",
    "u2 = 0.2\n",
    "f0 = 1\n",
    "lc = EXOFAST_TRAN(time, inc, ar, tp, period, e,omega, p, u1, u2, f0)\n",
    "print,lc\n",
    "exit\n",
    "```"
   ]
  },
  {
   "cell_type": "code",
   "execution_count": null,
   "id": "927f7d90",
   "metadata": {},
   "outputs": [],
   "source": [
    "### EXOFASTv2 transit\n",
    "exofastv2_transit = np.array([1.0000000,1.0000000,1.0000000,1.0000000,1.0000000,1.0000000,1.0000000,\\\n",
    "                                 1.0000000,0.99892081,0.99583177,0.99241022,0.99085690,0.99027731,0.98986287,\\\n",
    "                                 0.98954655,0.98929758,0.98909840,0.98893790,0.98880854,0.98870500,0.98862345,\\\n",
    "                                 0.98856108,0.98851590,0.98848651,0.98847203,0.98847203,0.98848651,0.98851590,\\\n",
    "                                 0.98856109,0.98862345,0.98870500,0.98880854,0.98893790,0.98909840,0.98929758,\\\n",
    "                                 0.98954656,0.98986287,0.99027732,0.99085691,0.99241028,0.99583183,0.99892086,\\\n",
    "                                 1.0000000,1.0000000,1.0000000,1.0000000,1.0000000,1.0000000,1.0000000,1.0000000])"
   ]
  },
  {
   "cell_type": "code",
   "execution_count": null,
   "id": "7acfd7e3",
   "metadata": {},
   "outputs": [],
   "source": [
    "import numpy as np\n",
    "import matplotlib.pyplot as plt\n",
    "from exozippy.exozippy_tran import exozippy_tran  # adjust import path accordingly\n",
    "%matplotlib widget\n",
    "def test_exofast_tran_sample():\n",
    "    # Time array (days) centered on mid-transit\n",
    "    time = np.linspace(-0.05, 0.05, 50)  # some arbitrary BJD\n",
    "\n",
    "    # Planet & star system parameters\n",
    "    inc = np.radians(90.0)        # nearly edge-on\n",
    "    ar = 15.0                     # a/R*\n",
    "    tp = 0         # time of periastron\n",
    "    period = 3.0                  # days\n",
    "    e = 0.0                       # circular orbit\n",
    "    omega = np.radians(90.0)                   # periastron argument\n",
    "    p = 0.1                       # Rp/R*\n",
    "    u1 = 0.3                      # LD coefficients\n",
    "    u2 = 0.2\n",
    "    f0 = 1.0                      # baseline flux\n",
    "\n",
    "    # Call model\n",
    "    model_flux = exozippy_tran(\n",
    "        time, inc, ar, tp, period, e, omega, p, u1, u2, f0\n",
    "    )\n",
    "\n",
    "    # Check output shape\n",
    "    assert model_flux.shape == time.shape, \"Model output shape mismatch\"\n",
    "\n",
    "    # # Check that there is some dimming (i.e., transit exists)\n",
    "    assert np.min(model_flux) < f0 - 1e-4, \"No transit dip found in flux\"\n",
    "\n",
    "    import matplotlib.gridspec as gridspec\n",
    "    plt.figure(figsize=(12, 5))\n",
    "    nrow = 2\n",
    "    ncol = 1\n",
    "    gs = gridspec.GridSpec(nrow, ncol, width_ratios=None, height_ratios=(2,1))\n",
    "    plt.subplots_adjust(left=None, bottom=None, right=None, top=None)\n",
    "    ax = plt.subplot(gs[0])\n",
    "    min_x = np.min(time*24)\n",
    "    max_x = np.max(time*24)\n",
    "    ax.set_xlim(min_x, max_x)\n",
    "    ax.plot(time*24, model_flux, label=\"Exozippy\", alpha=0.5)\n",
    "    ax.plot(\n",
    "        time*24, exofastv2_transit, label=\"EXOFASTv2\", alpha=0.5\n",
    "    )\n",
    "    \n",
    "    ax.legend()\n",
    "    \n",
    "    ax = plt.subplot(gs[1], sharex=ax)\n",
    "    diff = model_flux - exofastv2_transit\n",
    "    plt.plot(time*24, diff, label=\"exozippy - EXOFASTv2\", alpha=0.5, color='k')\n",
    "    plt.xlabel(\"Time [hrs from mid-transit]\")\n",
    "    plt.ylabel(\"Normalized Flux\")\n",
    "    plt.legend()\n",
    "    plt.show()\n",
    "\n",
    "if __name__ == \"__main__\":\n",
    "    test_exofast_tran_sample()"
   ]
  },
  {
   "cell_type": "code",
   "execution_count": null,
   "id": "c2f40d67",
   "metadata": {},
   "outputs": [],
   "source": [
    "time = np.linspace(-0.05, 0.05, 50)  # some arbitrary BJD\n",
    "\n",
    "# Planet & star system parameters\n",
    "inc = np.radians(90.0)        # nearly edge-on\n",
    "ar = 15.0                     # a/R*\n",
    "tp = 0         # time of periastron\n",
    "period = 3.0                  # days\n",
    "e = 0.0                       # circular orbit\n",
    "omega = np.radians(90.0)                   # periastron argument\n",
    "p = 0.1                       # Rp/R*\n",
    "u1 = 0.3                      # LD coefficients\n",
    "u2 = 0.2\n",
    "f0 = 1.0                      # baseline flux\n",
    "model_flux = exozippy_tran(\n",
    "    time, inc, ar, tp, period, e, omega, p, u1, u2, f0\n",
    ")"
   ]
  },
  {
   "cell_type": "code",
   "execution_count": null,
   "id": "39dec839",
   "metadata": {},
   "outputs": [],
   "source": [
    "def test_exozippy_tran_repeated(n=10):\n",
    "    for _ in range(n):\n",
    "        exozippy_tran(time, inc, ar, tp, period, e, omega, p, u1, u2, f0)\n",
    "\n",
    "%prun -l 20 -s tottime test_exozippy_tran_repeated(5000)\n"
   ]
  },
  {
   "cell_type": "code",
   "execution_count": null,
   "id": "311a8d20",
   "metadata": {},
   "outputs": [],
   "source": [
    "%%timeit\n",
    "model_flux = exozippy_tran(\n",
    "    time, inc, ar, tp, period, e, omega, p, u1, u2, f0\n",
    ")"
   ]
  },
  {
   "cell_type": "code",
   "execution_count": null,
   "id": "aa32a8a8",
   "metadata": {},
   "outputs": [],
   "source": [
    "import batman"
   ]
  },
  {
   "cell_type": "code",
   "execution_count": null,
   "id": "503d9f2b",
   "metadata": {},
   "outputs": [],
   "source": [
    "%%timeit\n",
    "# import batman\n",
    "params = batman.TransitParams()\n",
    "params.t0 = 0.                       #time of inferior conjunction\n",
    "params.per = 1.                      #orbital period\n",
    "params.rp = 0.1                      #planet radius (in units of stellar radii)\n",
    "params.a = 15.                       #semi-major axis (in units of stellar radii)\n",
    "params.inc = 87.                     #orbital inclination (in degrees)\n",
    "params.ecc = 0.                      #eccentricity\n",
    "params.w = 90.                       #longitude of periastron (in degrees)\n",
    "params.u = [0.1, 0.3]                #limb darkening coefficients [u1, u2]\n",
    "params.limb_dark = \"quadratic\"       #limb darkening model\n",
    "t = np.linspace(-0.05, 0.05, 50)\n",
    "m = batman.TransitModel(params, t)    #initializes model\n",
    "flux = m.light_curve(params)    "
   ]
  },
  {
   "cell_type": "markdown",
   "id": "c767a8bf",
   "metadata": {},
   "source": []
  },
  {
   "cell_type": "code",
   "execution_count": null,
   "id": "4e9b5219",
   "metadata": {},
   "outputs": [],
   "source": [
    "\n",
    "from exozippy.utils import *\n",
    "# np.round(exozippy_getb2(0, 1.5,5,0,3),15)\n",
    "from scipy.io import readsav"
   ]
  },
  {
   "cell_type": "code",
   "execution_count": null,
   "id": "db74ba5b",
   "metadata": {},
   "outputs": [],
   "source": [
    "np.float64(exozippy_keplereq(np.atleast_1d(0.1), np.atleast_1d(0.2)))"
   ]
  },
  {
   "cell_type": "code",
   "execution_count": null,
   "id": "bdb50b72",
   "metadata": {},
   "outputs": [],
   "source": [
    "from scipy.io import readsav\n",
    "import glob\n",
    "# data['bcarray'][0]\n",
    "# /Users/wangxianyu/Program/Github/EXOZIPPy/data/exofastv2/examples/hat3/n20070428.Sloani.KepCam.dat\n",
    "# files = glob.glob('./data/exofastv2/examples/hat3/*.dat')\n",
    "tran_files = glob.glob('../data/exofastv2/examples/hat3/*.dat')\n",
    "\n",
    "from exozippy.readtran import readtran\n",
    "for file in tran_files:\n",
    "    transit = readtran(file)\n",
    "rv_files = glob.glob('../data/exofastv2/examples/hat3/*.rv')\n",
    "from exozippy.readrv import readrv\n",
    "for file in rv_files:\n",
    "    rv = readrv(file)"
   ]
  },
  {
   "cell_type": "code",
   "execution_count": null,
   "id": "ca13d15f",
   "metadata": {},
   "outputs": [],
   "source": [
    "from exozippy.utils import get_av_prior\n",
    "from exozippy.sed.mkticsed import mkticsed\n",
    "# get_av_prior(object_name='HAT-P-3')\n",
    "# mkticsed(ticid=307210830)"
   ]
  },
  {
   "cell_type": "code",
   "execution_count": null,
   "id": "7c863cbc",
   "metadata": {},
   "outputs": [],
   "source": [
    "import re\n",
    "import json\n",
    "\n",
    "def parse_param_file(filepath):\n",
    "    text = open(filepath, 'r').read()\n",
    "    params = {}\n",
    "    lines = text.strip().split(\"\\n\")\n",
    "    \n",
    "    for line in lines:\n",
    "        line = line.strip()\n",
    "        if not line or line.startswith(\"#\"):\n",
    "            continue  # skip comments and blank lines\n",
    "\n",
    "        parts = re.split(r'\\s+', line.split(\"#\")[0].strip())\n",
    "        label = parts[0]\n",
    "        values = list(map(float, parts[1:]))\n",
    "\n",
    "        # Assign values based on number of columns\n",
    "        mu = values[0] if len(values) > 0 else None\n",
    "        sigma = values[1] if len(values) > 1 else None\n",
    "        lower = values[2] if len(values) > 2 else None\n",
    "        upper = values[3] if len(values) > 3 else None\n",
    "        initval = values[4] if len(values) > 4 else None\n",
    "\n",
    "        params[label] = {\n",
    "            \"mu\": mu,\n",
    "            \"sigma\": sigma,\n",
    "            \"lower\": lower,\n",
    "            \"upper\": upper,\n",
    "            \"initval\": initval\n",
    "        }\n",
    "\n",
    "    return params\n",
    "\n",
    "\n",
    "\n",
    "parsed = parse_param_file('/Users/wangxianyu/Program/Github/EXOZIPPy/data/exofastv2/examples/hat3/HAT-3.priors')\n",
    "print(json.dumps(parsed, indent=2))\n",
    "# save to json file\n",
    "with open('/Users/wangxianyu/Program/Github/EXOZIPPy/data/exofastv2/examples/hat3.json', 'w') as json_file:\n",
    "    json.dump(parsed, json_file, indent=2)\n"
   ]
  },
  {
   "cell_type": "code",
   "execution_count": 2,
   "id": "42e45b81",
   "metadata": {},
   "outputs": [
    {
     "name": "stdout",
     "output_type": "stream",
     "text": [
      "uniform: rstar_0 = 0.82 (lower=n/a, upper=n/a, initval=None)\n",
      "uniform: mstar_0 = 0.89 (lower=n/a, upper=n/a, initval=None)\n",
      "uniform: teff_0 = 5224.0 (lower=n/a, upper=n/a, initval=None)\n",
      "bounded normal: -5.0 < feh_0 = 0.41 +/- 0.08 < 5.0 (initval=None)\n",
      "deterministic: lstar_0 (mu=None, lower=None, upper=None, initval=None,sigma=None)\n",
      "deterministic: rhostar_0 (mu=None, lower=None, upper=None, initval=None,sigma=None)\n",
      "deterministic: logg_0 (mu=None, lower=None, upper=None, initval=None,sigma=None)\n",
      "uniform: 1e-09 < logp_0 < 13.7 (initval=1.0, mu=None, sigma=None)\n",
      "uniform: 1e-09 < rp_0 < 20000.0 (initval=1.0, mu=None, sigma=None)\n",
      "uniform: tc_0 = 2454218.76016 (lower=n/a, upper=n/a, initval=None)\n",
      "uniform: -1000000000.0 < mp_0 < 1000000000.0 (initval=1.0, mu=None, sigma=None)\n",
      "deterministic: period_0 (mu=2.899703, lower=None, upper=None, initval=None,sigma=5.4e-05)\n",
      "deterministic: p_0 (mu=None, lower=None, upper=None, initval=None,sigma=None)\n",
      "deterministic: arsun_0 (mu=None, lower=None, upper=None, initval=None,sigma=None)\n",
      "deterministic: ar_0 (mu=None, lower=None, upper=None, initval=None,sigma=None)\n",
      "deterministic: a_0 (mu=None, lower=None, upper=None, initval=None,sigma=None)\n",
      "uniform: -1.0 < secosw_0 < 1.0 (initval=0.0, mu=None, sigma=None)\n",
      "uniform: -1.0 < sesinw_0 < 1.0 (initval=0.0, mu=None, sigma=None)\n",
      "uniform: 0.0 < cosi_0 < 1.0 (initval=0.0, mu=None, sigma=None)\n",
      "deterministic: e_0 (mu=None, lower=None, upper=None, initval=None,sigma=None)\n",
      "deterministic: omega_0 (mu=None, lower=None, upper=None, initval=None,sigma=None)\n",
      "deterministic: esinw_0 (mu=None, lower=None, upper=None, initval=None,sigma=None)\n",
      "deterministic: b_0 (mu=None, lower=None, upper=None, initval=None,sigma=None)\n",
      "deterministic: inc_0 (mu=None, lower=None, upper=None, initval=None,sigma=None)\n",
      "deterministic: k_0 (mu=None, lower=None, upper=None, initval=None,sigma=None)\n"
     ]
    }
   ],
   "source": [
    "from exozippy import exozippy\n",
    "\n",
    "exozippy.exozippy(parfile=\"/Users/wangxianyu/Program/Github/EXOZIPPy/data/exofastv2/examples/hat3.json\",tranpath=\"/Users/wangxianyu/Program/Github/EXOZIPPy/data/exofastv2/examples/*.dat\")"
   ]
  },
  {
   "cell_type": "code",
   "execution_count": null,
   "id": "7d3ba4fc",
   "metadata": {},
   "outputs": [],
   "source": [
    "star[\"radius\"]"
   ]
  }
 ],
 "metadata": {
  "kernelspec": {
   "display_name": "normal",
   "language": "python",
   "name": "python3"
  },
  "language_info": {
   "codemirror_mode": {
    "name": "ipython",
    "version": 3
   },
   "file_extension": ".py",
   "mimetype": "text/x-python",
   "name": "python",
   "nbconvert_exporter": "python",
   "pygments_lexer": "ipython3",
   "version": "3.10.15"
  }
 },
 "nbformat": 4,
 "nbformat_minor": 5
}
